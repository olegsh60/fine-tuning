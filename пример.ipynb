{
 "cells": [
  {
   "cell_type": "markdown",
   "id": "e9b8b1a7",
   "metadata": {},
   "source": [
    "Это пример"
   ]
  },
  {
   "cell_type": "code",
   "execution_count": null,
   "id": "af93f8dc",
   "metadata": {},
   "outputs": [],
   "source": [
    "print(2*2)"
   ]
  }
 ],
 "metadata": {
  "language_info": {
   "name": "python"
  }
 },
 "nbformat": 4,
 "nbformat_minor": 5
}
